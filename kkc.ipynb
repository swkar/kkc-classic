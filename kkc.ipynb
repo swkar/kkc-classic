{
 "cells": [
  {
   "cell_type": "code",
   "execution_count": 1,
   "metadata": {},
   "outputs": [],
   "source": [
    "# notebook command only -- skip these if in terminal\n",
    "%load_ext autoreload\n",
    "%autoreload 2"
   ]
  },
  {
   "cell_type": "code",
   "execution_count": 2,
   "metadata": {},
   "outputs": [
    {
     "name": "stdout",
     "output_type": "stream",
     "text": [
      "3.7.5 (default, Nov  1 2019, 02:16:32) \n",
      "[Clang 11.0.0 (clang-1100.0.33.8)]\n"
     ]
    }
   ],
   "source": [
    "# KKC-Classic solver for 2 and 3 dimensions\n",
    "# Play it here: https://kkc-classic.pagehits.io/\n",
    "\n",
    "from kkc import *\n",
    "import numpy as np\n",
    "import sys\n",
    "print(sys.version)"
   ]
  },
  {
   "cell_type": "code",
   "execution_count": 3,
   "metadata": {},
   "outputs": [
    {
     "name": "stdout",
     "output_type": "stream",
     "text": [
      "Init 10 ent  6.91\n",
      "5.4.8, - --> ent  5.84\n",
      "7.0.0, x --> ent  4.90\n",
      "3.3.0, - --> ent  3.77\n",
      "6.7.7, x+ --> ent  2.94\n",
      "6.7.6, xx --> ent  1.74\n",
      "6.2.7, xx+ --> ent -0.00 BINGO!\n",
      "answer 2.6.7\n"
     ]
    },
    {
     "data": {
      "text/plain": [
       "([2, 6, 7], 6)"
      ]
     },
     "execution_count": 3,
     "metadata": {},
     "output_type": "execute_result"
    }
   ],
   "source": [
    "solve(267, show=True)"
   ]
  },
  {
   "cell_type": "code",
   "execution_count": 4,
   "metadata": {},
   "outputs": [
    {
     "name": "stdout",
     "output_type": "stream",
     "text": [
      "kkc2: min/max (1, 10) pc10/50/90 [2.9 6.  8. ] mean 5.44\n",
      "kkc3: min/max (1, 12) pc10/50/90 [4. 6. 8.] mean 5.953\n"
     ]
    }
   ],
   "source": [
    "stats = [solve(n, seed=n, dims=2)[1] for n in range(100)]\n",
    "print('kkc2: min/max', (min(stats), max(stats)),\n",
    "      'pc10/50/90', np.percentile(stats, [10, 50, 90]),\n",
    "      'mean', np.mean(stats))\n",
    "\n",
    "stats = [solve(n, seed=n, dims=3)[1] for n in range(1000)]\n",
    "print('kkc3: min/max', (min(stats), max(stats)),\n",
    "      'pc10/50/90', np.percentile(stats, [10, 50, 90]),\n",
    "      'mean', np.mean(stats))"
   ]
  },
  {
   "cell_type": "code",
   "execution_count": 5,
   "metadata": {},
   "outputs": [
    {
     "name": "stdout",
     "output_type": "stream",
     "text": [
      "dims 3\n",
      "Init 10 ent  6.91\n",
      "1.2.3, x --> ent  5.86\n",
      "4.5.6, x --> ent  4.85\n",
      "7.8.9, + --> ent  3.18\n",
      "8.8.8, + --> ent  2.08\n",
      "4.4.5, + --> ent  0.69\n",
      "2.2.2, - --> ent -0.00 BINGO!\n",
      "3.3.3, + --> ent -0.00 BINGO!\n",
      "3.8.5, +++ --> ent -0.00 BINGO!\n"
     ]
    }
   ],
   "source": [
    "_ = replay([123, 'x', 456, 'x', 789,  '+', 888, '+', 445, '+', 222, '-', 333, '+', 385, '+++'])"
   ]
  },
  {
   "cell_type": "code",
   "execution_count": 6,
   "metadata": {},
   "outputs": [
    {
     "data": {
      "text/plain": [
       "'-'"
      ]
     },
     "execution_count": 6,
     "metadata": {},
     "output_type": "execute_result"
    }
   ],
   "source": [
    "get_feedback(123, 456)"
   ]
  },
  {
   "cell_type": "code",
   "execution_count": 7,
   "metadata": {},
   "outputs": [
    {
     "name": "stdout",
     "output_type": "stream",
     "text": [
      "dims 2\n",
      "Init 10 ent  4.61\n",
      "5.8, - --> ent  4.16\n",
      "1.2, x --> ent  2.64\n",
      "1.1, + --> ent  1.79\n",
      "3.4, - --> ent  1.39\n",
      "6.7, + --> ent -0.00 BINGO!\n"
     ]
    }
   ],
   "source": [
    "_ = replay([58, '-', 12, 'x', 11, '+', 34, '-', 67, '+'])"
   ]
  },
  {
   "cell_type": "code",
   "execution_count": null,
   "metadata": {},
   "outputs": [],
   "source": []
  }
 ],
 "metadata": {
  "kernelspec": {
   "display_name": "gym-env",
   "language": "python",
   "name": "gym-env"
  },
  "language_info": {
   "codemirror_mode": {
    "name": "ipython",
    "version": 3
   },
   "file_extension": ".py",
   "mimetype": "text/x-python",
   "name": "python",
   "nbconvert_exporter": "python",
   "pygments_lexer": "ipython3",
   "version": "3.7.5"
  }
 },
 "nbformat": 4,
 "nbformat_minor": 2
}
