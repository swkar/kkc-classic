{
 "cells": [
  {
   "cell_type": "markdown",
   "metadata": {},
   "source": [
    "Playing [Quordle](https://www.quordle.com/#/) or [Wordle](https://www.nytimes.com/games/wordle/index.html) and in a hurry? Want just one hint? Try this!"
   ]
  },
  {
   "cell_type": "code",
   "execution_count": 1,
   "metadata": {},
   "outputs": [
    {
     "name": "stdout",
     "output_type": "stream",
     "text": [
      "3.8.9 (default, Oct 26 2021, 07:25:54) \n",
      "[Clang 13.0.0 (clang-1300.0.29.30)] /Users/swkar/wordle/env/bin/python\n"
     ]
    }
   ],
   "source": [
    "import numpy as np\n",
    "import sys\n",
    "import collections\n",
    "from urllib.request import urlopen\n",
    "\n",
    "print(sys.version, sys.executable)"
   ]
  },
  {
   "cell_type": "code",
   "execution_count": 2,
   "metadata": {},
   "outputs": [
    {
     "name": "stdout",
     "output_type": "stream",
     "text": [
      "<class 'list'> 466551 ['2', '1080', '&c', '10-point', '10th', '11-point', '12-point', '16-point', '18-point', '1st']\n"
     ]
    }
   ],
   "source": [
    "with urlopen('https://github.com/dwyl/english-words/raw/master/words.txt') as f:\n",
    "    words_raw = f.read().decode('utf-8').split('\\n')\n",
    "print(type(words_raw), len(words_raw), words_raw[:10])"
   ]
  },
  {
   "cell_type": "code",
   "execution_count": 3,
   "metadata": {},
   "outputs": [
    {
     "name": "stdout",
     "output_type": "stream",
     "text": [
      "<class 'list'> 21952 ['UNBOW', 'GRAPH', 'MENSE', 'CASTS', 'INVOY', 'CRAFT', 'PANDA', 'CATES', 'WILED', 'HUSHO']\n"
     ]
    }
   ],
   "source": [
    "words = list(set([w.upper()\n",
    "               for w in words_raw\n",
    "               if len(w)==5 and w.isalpha()\n",
    "              ]))\n",
    "\n",
    "# check wordlist\n",
    "print(type(words), len(words), words[:10])"
   ]
  },
  {
   "cell_type": "code",
   "execution_count": 4,
   "metadata": {},
   "outputs": [],
   "source": [
    "def get_indices(words):\n",
    "    index = {}\n",
    "    for map_id in ('has_letter', 'has_letter_in_pos', 'dont_have_letter'):\n",
    "        index[map_id] = collections.defaultdict(set)\n",
    "\n",
    "    for n, word in enumerate(words):\n",
    "        for pos, letter in enumerate(word):\n",
    "            index['has_letter'][letter].add(n)\n",
    "            index['has_letter_in_pos'][(letter, pos)].add(n)\n",
    "\n",
    "    master_set = set(list(range(len(words))))\n",
    "    for key, set_ in index['has_letter'].items():\n",
    "        index['dont_have_letter'][key] = list(master_set - set_)\n",
    "\n",
    "    index_ = index\n",
    "    index = {}\n",
    "    for map_id in ('has_letter', 'has_letter_in_pos', 'dont_have_letter'):\n",
    "        index[map_id] = collections.defaultdict(list)\n",
    "        for key, set_ in index_[map_id].items():\n",
    "            index[map_id][key] = list(set_)\n",
    "            \n",
    "    return index\n",
    "\n",
    "index = get_indices(words)"
   ]
  },
  {
   "cell_type": "code",
   "execution_count": 5,
   "metadata": {},
   "outputs": [
    {
     "name": "stdout",
     "output_type": "stream",
     "text": [
      "['GALEA', 'GRAPH', 'MEGGS', 'FUGIO', 'RIGOL']\n",
      "['ARENG', 'SWUNG', 'IRREG', 'INORG', 'CHUNG']\n",
      "['UNBOW', 'MENSE', 'CASTS', 'INVOY', 'CRAFT']\n"
     ]
    }
   ],
   "source": [
    "# check indices\n",
    "print([words[n] for n in index['has_letter']['G'][:5]])\n",
    "print([words[n] for n in index['has_letter_in_pos'][('G', 4)][:5]])\n",
    "print([words[n] for n in index['dont_have_letter']['G'][:5]])"
   ]
  },
  {
   "cell_type": "code",
   "execution_count": 6,
   "metadata": {},
   "outputs": [],
   "source": [
    "def sum_to_one(prob):\n",
    "    sum_prob = np.sum(prob)\n",
    "    if sum_prob==0:\n",
    "        return prob*0\n",
    "    return prob / np.sum(prob)\n",
    "\n",
    "\n",
    "def play_game(inputs_and_feedbacks, verbose=0, n_hints=12):\n",
    "    n_words = len(words)\n",
    "    n_wordle = len(inputs_and_feedbacks[0][1])\n",
    "    probs_ = np.ones((n_wordle, n_words))\n",
    "    \n",
    "    def get_num_choices():\n",
    "        return np.prod([(np.count_nonzero(p)) for p in probs_])\n",
    "\n",
    "    if verbose>=1:\n",
    "        print(f'At start, num_choices per slot {n_words:,}, total {get_num_choices():,}')\n",
    "    \n",
    "    def print_hints():\n",
    "        for n, p in enumerate(probs_):\n",
    "            try:\n",
    "                guess = set(np.random.choice(\n",
    "                    words, size=n_hints, p=sum_to_one(p), replace=True))\n",
    "            except:\n",
    "                guess = set()\n",
    "            guess_str = ', '.join(guess)\n",
    "            print(f'{n}: {guess_str} ({len(guess)}/{np.count_nonzero(p):,})')\n",
    "                \n",
    "    for m, (word, feedbacks) in enumerate(inputs_and_feedbacks):\n",
    "        word = word.upper()\n",
    "        for n, feedback in enumerate(feedbacks):\n",
    "            letters_present = set([letter \n",
    "                                   for letter, feedback_ in zip(word, feedback)\n",
    "                                   if feedback_ != '-'])\n",
    "            for pos, (letter, feedback_) in enumerate(zip(word, feedback)):\n",
    "                if feedback_ == '-':\n",
    "                    if letter not in letters_present:\n",
    "                        not_possible = index['has_letter'][letter]\n",
    "                        probs_[n, not_possible] = 0\n",
    "                elif feedback_ == '+':\n",
    "                    only_possible = index['has_letter_in_pos'][(letter, pos)]\n",
    "                    new_probs_ = np.zeros_like(probs_[n])\n",
    "                    new_probs_[only_possible] = probs_[n, only_possible]\n",
    "                    probs_[n, :] = new_probs_\n",
    "                elif feedback_ == '.':\n",
    "                    not_possible = index['has_letter_in_pos'][(letter, pos)]\n",
    "                    probs_[n, not_possible] = 0\n",
    "                    not_possible = index['dont_have_letter'][letter]\n",
    "                    probs_[n, not_possible] = 0\n",
    "\n",
    "                if verbose>=2:\n",
    "                    print(f'step {(m, n, pos, letter, feedback_)}, choices {np.count_nonzero(probs_[n]):,}')\n",
    "        if verbose>=1:\n",
    "            print(f'\\nAfter feedback #{m}, num_choices are {get_num_choices():,}, some hints..')\n",
    "            print_hints()\n",
    "    if not verbose:\n",
    "        print(f'\\nAfter feedback #{m}, num_choices are {get_num_choices():,}, some hints..')\n",
    "        print_hints()"
   ]
  },
  {
   "cell_type": "code",
   "execution_count": 7,
   "metadata": {},
   "outputs": [
    {
     "name": "stdout",
     "output_type": "stream",
     "text": [
      "At start, num_choices per slot 21,952, total 232,218,265,089,212,416\n",
      "\n",
      "After feedback #0, num_choices are 895,229,301,600, some hints..\n",
      "0: KAKIS, BOYAU, STATS, GABAR, CASON, NUBIA, STAFF, DIMNA, MANGI, FAFFY, CONDA, TRIGA (12/3,928)\n",
      "1: BERCY, EVROS, EXCUD, TIECK, MUTES, OKETO, NERON, TETON, GIVEN, WESTY, CZECH, RIDES (12/2,825)\n",
      "2: LUNGE, LONGE, BELUE, ELEME, LUCIE, LECCE, ROLFE, LOUIE, BLDGE, CLIVE (10/243)\n",
      "3: ROILY, WRYLY, SWOLN, CULLY, SKULL, DOILY, WILLI, SLYLY, NOLLY, STOLL, WHILK, COOLS (12/332)\n",
      "\n",
      "After feedback #1, num_choices are 17,889,032, some hints..\n",
      "0: HAKAM, HANYA, HAKKA, HANNY, OHAUS, SHAHS, HAFTS, HAMMY, GOTHA, SHADS, WHANK, WHATA (12/238)\n",
      "1: RHEEN, SHERD, KHMER, HUGER, HENRY, SHERM, TOHER, THEOR, ETHER, OSHER (10/43)\n",
      "2: LOSSE, OKLEE, FLUKE, NOLTE, GOLEE, GLOME, LETTE, KLEVE, NELSE, LEGGE (10/92)\n",
      "3: HOLLO, HOOLY, KOHLS, WHOLL, UHLLO, HOWLS, HOULT, SHULN, HOTLY (9/19)\n",
      "\n",
      "After feedback #2, num_choices are 204, some hints..\n",
      "0: GHAST, HASNT, HASTY, YASHT, THATS, THAWS, GHATS, HADST, DASHT (9/17)\n",
      "1: SHYER, SHERJ, SHERM, SHEER (4/6)\n",
      "2: SOLVE (1/1)\n",
      "3: HOLLY, HOLLO (2/2)\n",
      "\n",
      "After feedback #3, num_choices are 204, some hints..\n",
      "0: TASHA, HASTY, MATHS, WHATS, THATS, THAWS, HASTA (7/17)\n",
      "1: SHERD, SHERM, SHEER, SHERJ, SHERR, SHYER (6/6)\n",
      "2: SOLVE (1/1)\n",
      "3: HOLLY, HOLLO (2/2)\n",
      "\n",
      "After feedback #4, num_choices are 22, some hints..\n",
      "0: TASHA, MATHS, HANTS, HADST, HASTA, DASHT (6/11)\n",
      "1: SHEER (1/1)\n",
      "2: SOLVE (1/1)\n",
      "3: HOLLY, HOLLO (2/2)\n",
      "\n",
      "After feedback #5, num_choices are 1, some hints..\n",
      "0: HASTY (1/1)\n",
      "1: SHEER (1/1)\n",
      "2: SOLVE (1/1)\n",
      "3: HOLLY (1/1)\n"
     ]
    }
   ],
   "source": [
    "# Put your Quordle feedback\n",
    "play_game([('apple', ('.----', '----.', '---.+', '---+-')),\n",
    "           ('birch', ('----.', '--.-.', '-----', '----.')),\n",
    "           ('stout', ('..---', '+----', '+-.--', '--.--')),\n",
    "           ('solve', ('.----', '+---.', '+++++', '-++--')),\n",
    "           ('sheer', ('..---', '+++++', '',      '-.---')),\n",
    "           ('holly', ('+---+', '',      '',      '+++++')),\n",
    "          ], verbose=1)"
   ]
  },
  {
   "cell_type": "code",
   "execution_count": null,
   "metadata": {},
   "outputs": [],
   "source": []
  },
  {
   "cell_type": "code",
   "execution_count": null,
   "metadata": {},
   "outputs": [],
   "source": []
  },
  {
   "cell_type": "code",
   "execution_count": 8,
   "metadata": {},
   "outputs": [
    {
     "name": "stdout",
     "output_type": "stream",
     "text": [
      "At start, num_choices per slot 21,952, total 21,952\n",
      "\n",
      "After feedback #0, num_choices are 3,928, some hints..\n",
      "0: KUSAM, CANNY, DANNY, SAIDI, BAFFY, SHAUM, UMAUA, WRANS, BACIN, SANDS, QUASH, KOKRA (12/3,928)\n",
      "\n",
      "After feedback #1, num_choices are 238, some hints..\n",
      "0: OATHS, MAHAU, MOHAM, KOHUA, HAYDN, HASTY, HAGGY, HADJS, KHVAT, HUMAN, JOHAN, HANNO (12/238)\n",
      "\n",
      "After feedback #2, num_choices are 17, some hints..\n",
      "0: TASHA, MATHS, HASHT, HANTS, THATS, GHATS, KHATS, HAFTS (8/17)\n",
      "\n",
      "After feedback #3, num_choices are 17, some hints..\n",
      "0: HASNT, YASHT, HASHT, WHATS, GHATS, KHATS, HAFTS, HADST (8/17)\n",
      "\n",
      "After feedback #4, num_choices are 11, some hints..\n",
      "0: HASNT, HASTY, YASHT, HASHT, HANTS, HAFTS, HADST, HASTA (8/11)\n",
      "\n",
      "After feedback #5, num_choices are 1, some hints..\n",
      "0: HASTY (1/1)\n"
     ]
    }
   ],
   "source": [
    "# Also works for your Wordle feedback\n",
    "play_game([('apple', ('.----',)),\n",
    "           ('birch', ('----.',)),\n",
    "           ('stout', ('..---',)),\n",
    "           ('solve', ('.----',)),\n",
    "           ('sheer', ('..---',)),\n",
    "           ('holly', ('+---+',)),\n",
    "          ], verbose=1)"
   ]
  },
  {
   "cell_type": "code",
   "execution_count": null,
   "metadata": {},
   "outputs": [],
   "source": []
  },
  {
   "cell_type": "code",
   "execution_count": null,
   "metadata": {},
   "outputs": [],
   "source": []
  }
 ],
 "metadata": {
  "kernelspec": {
   "display_name": "Python 3 (ipykernel)",
   "language": "python",
   "name": "python3"
  },
  "language_info": {
   "codemirror_mode": {
    "name": "ipython",
    "version": 3
   },
   "file_extension": ".py",
   "mimetype": "text/x-python",
   "name": "python",
   "nbconvert_exporter": "python",
   "pygments_lexer": "ipython3",
   "version": "3.8.9"
  }
 },
 "nbformat": 4,
 "nbformat_minor": 2
}
